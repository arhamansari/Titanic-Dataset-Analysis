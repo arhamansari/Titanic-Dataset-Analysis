{
 "cells": [
  {
   "cell_type": "code",
   "execution_count": 367,
   "metadata": {},
   "outputs": [],
   "source": [
    "#Importing Libraies\n",
    "import pandas as pd \n",
    "import numpy as np\n",
    "import matplotlib.pyplot  as plt\n",
    "% matplotlib inline \n",
    "import seaborn as sb"
   ]
  },
  {
   "cell_type": "code",
   "execution_count": 98,
   "metadata": {},
   "outputs": [],
   "source": [
    "#Reading Datasets\n",
    "df1 = pd.read_csv('train.csv')\n",
    "df2= pd.read_csv('test.csv')\n",
    "df3=pd.read_csv('gender_submission.csv')"
   ]
  },
  {
   "cell_type": "code",
   "execution_count": 401,
   "metadata": {},
   "outputs": [
    {
     "data": {
      "text/plain": [
       "(418, 418)"
      ]
     },
     "execution_count": 401,
     "metadata": {},
     "output_type": "execute_result"
    }
   ],
   "source": [
    "df2.shape[0],df3.shape[0]"
   ]
  },
  {
   "cell_type": "code",
   "execution_count": 402,
   "metadata": {},
   "outputs": [
    {
     "data": {
      "text/plain": [
       "418"
      ]
     },
     "execution_count": 402,
     "metadata": {},
     "output_type": "execute_result"
    }
   ],
   "source": [
    "#Checking for the df2 PasesengeId to df3 PassengerId for Joining Datasets\n",
    "sum(df2['PassengerId']==df3['PassengerId']) "
   ]
  },
  {
   "cell_type": "markdown",
   "metadata": {},
   "source": [
    " df3 and df2 contains same PassengerId.We want Survived column for df2 which is in df3 therefore Joining table on \n",
    " 'PassengerID '."
   ]
  },
  {
   "cell_type": "code",
   "execution_count": 403,
   "metadata": {},
   "outputs": [],
   "source": [
    "#Joining\n",
    "new=pd.merge(df2,df3,on='PassengerId',how=\"outer\")"
   ]
  },
  {
   "cell_type": "code",
   "execution_count": 404,
   "metadata": {},
   "outputs": [
    {
     "data": {
      "text/plain": [
       "418"
      ]
     },
     "execution_count": 404,
     "metadata": {},
     "output_type": "execute_result"
    }
   ],
   "source": [
    "#Check joining\n",
    "new.shape[0]"
   ]
  },
  {
   "cell_type": "code",
   "execution_count": 102,
   "metadata": {},
   "outputs": [
    {
     "data": {
      "text/html": [
       "<div>\n",
       "<style scoped>\n",
       "    .dataframe tbody tr th:only-of-type {\n",
       "        vertical-align: middle;\n",
       "    }\n",
       "\n",
       "    .dataframe tbody tr th {\n",
       "        vertical-align: top;\n",
       "    }\n",
       "\n",
       "    .dataframe thead th {\n",
       "        text-align: right;\n",
       "    }\n",
       "</style>\n",
       "<table border=\"1\" class=\"dataframe\">\n",
       "  <thead>\n",
       "    <tr style=\"text-align: right;\">\n",
       "      <th></th>\n",
       "      <th></th>\n",
       "      <th>Age</th>\n",
       "      <th>Cabin</th>\n",
       "      <th>Embarked</th>\n",
       "      <th>Fare</th>\n",
       "      <th>Name</th>\n",
       "      <th>Parch</th>\n",
       "      <th>PassengerId</th>\n",
       "      <th>Pclass</th>\n",
       "      <th>Sex</th>\n",
       "      <th>SibSp</th>\n",
       "      <th>Survived</th>\n",
       "      <th>Ticket</th>\n",
       "    </tr>\n",
       "  </thead>\n",
       "  <tbody>\n",
       "    <tr>\n",
       "      <th>P</th>\n",
       "      <th>386</th>\n",
       "      <td>24.0</td>\n",
       "      <td>NaN</td>\n",
       "      <td>S</td>\n",
       "      <td>7.775</td>\n",
       "      <td>Aronsson, Mr. Ernst Axel Algot</td>\n",
       "      <td>0.0</td>\n",
       "      <td>1278</td>\n",
       "      <td>3.0</td>\n",
       "      <td>male</td>\n",
       "      <td>0.0</td>\n",
       "      <td>NaN</td>\n",
       "      <td>349911</td>\n",
       "    </tr>\n",
       "  </tbody>\n",
       "</table>\n",
       "</div>"
      ],
      "text/plain": [
       "        Age Cabin Embarked   Fare                            Name  Parch  \\\n",
       "P 386  24.0   NaN        S  7.775  Aronsson, Mr. Ernst Axel Algot    0.0   \n",
       "\n",
       "       PassengerId  Pclass   Sex  SibSp  Survived  Ticket  \n",
       "P 386         1278     3.0  male    0.0       NaN  349911  "
      ]
     },
     "execution_count": 102,
     "metadata": {},
     "output_type": "execute_result"
    }
   ],
   "source": [
    "new.sample()"
   ]
  },
  {
   "cell_type": "markdown",
   "metadata": {},
   "source": [
    "Since we now have Survived column in new dataframe now Merging two dataset."
   ]
  },
  {
   "cell_type": "code",
   "execution_count": 115,
   "metadata": {},
   "outputs": [],
   "source": [
    "#Joining\n",
    "df=pd.merge(df1,new,how=\"outer\")"
   ]
  },
  {
   "cell_type": "markdown",
   "metadata": {},
   "source": [
    "## Investigation & Wrangling of Dataset"
   ]
  },
  {
   "cell_type": "code",
   "execution_count": 116,
   "metadata": {},
   "outputs": [
    {
     "name": "stdout",
     "output_type": "stream",
     "text": [
      "<class 'pandas.core.frame.DataFrame'>\n",
      "Int64Index: 1309 entries, 0 to 1308\n",
      "Data columns (total 12 columns):\n",
      "PassengerId    1309 non-null int64\n",
      "Survived       1309 non-null int64\n",
      "Pclass         1309 non-null int64\n",
      "Name           1309 non-null object\n",
      "Sex            1309 non-null object\n",
      "Age            1046 non-null float64\n",
      "SibSp          1309 non-null int64\n",
      "Parch          1309 non-null int64\n",
      "Ticket         1309 non-null object\n",
      "Fare           1308 non-null float64\n",
      "Cabin          295 non-null object\n",
      "Embarked       1307 non-null object\n",
      "dtypes: float64(2), int64(5), object(5)\n",
      "memory usage: 132.9+ KB\n"
     ]
    }
   ],
   "source": [
    "df.info()"
   ]
  },
  {
   "cell_type": "code",
   "execution_count": 91,
   "metadata": {},
   "outputs": [
    {
     "data": {
      "text/html": [
       "<div>\n",
       "<style scoped>\n",
       "    .dataframe tbody tr th:only-of-type {\n",
       "        vertical-align: middle;\n",
       "    }\n",
       "\n",
       "    .dataframe tbody tr th {\n",
       "        vertical-align: top;\n",
       "    }\n",
       "\n",
       "    .dataframe thead th {\n",
       "        text-align: right;\n",
       "    }\n",
       "</style>\n",
       "<table border=\"1\" class=\"dataframe\">\n",
       "  <thead>\n",
       "    <tr style=\"text-align: right;\">\n",
       "      <th></th>\n",
       "      <th>PassengerId</th>\n",
       "      <th>Survived</th>\n",
       "      <th>Pclass</th>\n",
       "      <th>Name</th>\n",
       "      <th>Sex</th>\n",
       "      <th>Age</th>\n",
       "      <th>SibSp</th>\n",
       "      <th>Parch</th>\n",
       "      <th>Ticket</th>\n",
       "      <th>Fare</th>\n",
       "      <th>Cabin</th>\n",
       "      <th>Embarked</th>\n",
       "    </tr>\n",
       "  </thead>\n",
       "  <tbody>\n",
       "    <tr>\n",
       "      <th>0</th>\n",
       "      <td>1</td>\n",
       "      <td>0.0</td>\n",
       "      <td>3.0</td>\n",
       "      <td>Braund, Mr. Owen Harris</td>\n",
       "      <td>male</td>\n",
       "      <td>22.0</td>\n",
       "      <td>1.0</td>\n",
       "      <td>0.0</td>\n",
       "      <td>A/5 21171</td>\n",
       "      <td>7.2500</td>\n",
       "      <td>NaN</td>\n",
       "      <td>S</td>\n",
       "    </tr>\n",
       "    <tr>\n",
       "      <th>1</th>\n",
       "      <td>2</td>\n",
       "      <td>1.0</td>\n",
       "      <td>1.0</td>\n",
       "      <td>Cumings, Mrs. John Bradley (Florence Briggs Th...</td>\n",
       "      <td>female</td>\n",
       "      <td>38.0</td>\n",
       "      <td>1.0</td>\n",
       "      <td>0.0</td>\n",
       "      <td>PC 17599</td>\n",
       "      <td>71.2833</td>\n",
       "      <td>C85</td>\n",
       "      <td>C</td>\n",
       "    </tr>\n",
       "    <tr>\n",
       "      <th>2</th>\n",
       "      <td>3</td>\n",
       "      <td>1.0</td>\n",
       "      <td>3.0</td>\n",
       "      <td>Heikkinen, Miss. Laina</td>\n",
       "      <td>female</td>\n",
       "      <td>26.0</td>\n",
       "      <td>0.0</td>\n",
       "      <td>0.0</td>\n",
       "      <td>STON/O2. 3101282</td>\n",
       "      <td>7.9250</td>\n",
       "      <td>NaN</td>\n",
       "      <td>S</td>\n",
       "    </tr>\n",
       "    <tr>\n",
       "      <th>3</th>\n",
       "      <td>4</td>\n",
       "      <td>1.0</td>\n",
       "      <td>1.0</td>\n",
       "      <td>Futrelle, Mrs. Jacques Heath (Lily May Peel)</td>\n",
       "      <td>female</td>\n",
       "      <td>35.0</td>\n",
       "      <td>1.0</td>\n",
       "      <td>0.0</td>\n",
       "      <td>113803</td>\n",
       "      <td>53.1000</td>\n",
       "      <td>C123</td>\n",
       "      <td>S</td>\n",
       "    </tr>\n",
       "    <tr>\n",
       "      <th>4</th>\n",
       "      <td>5</td>\n",
       "      <td>0.0</td>\n",
       "      <td>3.0</td>\n",
       "      <td>Allen, Mr. William Henry</td>\n",
       "      <td>male</td>\n",
       "      <td>35.0</td>\n",
       "      <td>0.0</td>\n",
       "      <td>0.0</td>\n",
       "      <td>373450</td>\n",
       "      <td>8.0500</td>\n",
       "      <td>NaN</td>\n",
       "      <td>S</td>\n",
       "    </tr>\n",
       "  </tbody>\n",
       "</table>\n",
       "</div>"
      ],
      "text/plain": [
       "   PassengerId  Survived  Pclass  \\\n",
       "0            1       0.0     3.0   \n",
       "1            2       1.0     1.0   \n",
       "2            3       1.0     3.0   \n",
       "3            4       1.0     1.0   \n",
       "4            5       0.0     3.0   \n",
       "\n",
       "                                                Name     Sex   Age  SibSp  \\\n",
       "0                            Braund, Mr. Owen Harris    male  22.0    1.0   \n",
       "1  Cumings, Mrs. John Bradley (Florence Briggs Th...  female  38.0    1.0   \n",
       "2                             Heikkinen, Miss. Laina  female  26.0    0.0   \n",
       "3       Futrelle, Mrs. Jacques Heath (Lily May Peel)  female  35.0    1.0   \n",
       "4                           Allen, Mr. William Henry    male  35.0    0.0   \n",
       "\n",
       "   Parch            Ticket     Fare Cabin Embarked  \n",
       "0    0.0         A/5 21171   7.2500   NaN        S  \n",
       "1    0.0          PC 17599  71.2833   C85        C  \n",
       "2    0.0  STON/O2. 3101282   7.9250   NaN        S  \n",
       "3    0.0            113803  53.1000  C123        S  \n",
       "4    0.0            373450   8.0500   NaN        S  "
      ]
     },
     "execution_count": 91,
     "metadata": {},
     "output_type": "execute_result"
    }
   ],
   "source": [
    "df.head()"
   ]
  },
  {
   "cell_type": "code",
   "execution_count": 119,
   "metadata": {},
   "outputs": [
    {
     "data": {
      "text/plain": [
       "1309"
      ]
     },
     "execution_count": 119,
     "metadata": {},
     "output_type": "execute_result"
    }
   ],
   "source": [
    "df.shape[0]"
   ]
  },
  {
   "cell_type": "code",
   "execution_count": 117,
   "metadata": {},
   "outputs": [
    {
     "data": {
      "text/plain": [
       "1309"
      ]
     },
     "execution_count": 117,
     "metadata": {},
     "output_type": "execute_result"
    }
   ],
   "source": [
    "#Since all passengers it have no duplicated passengerId\n",
    "df.PassengerId.nunique()"
   ]
  },
  {
   "cell_type": "code",
   "execution_count": 120,
   "metadata": {},
   "outputs": [
    {
     "data": {
      "text/plain": [
       "29.881137667304014"
      ]
     },
     "execution_count": 120,
     "metadata": {},
     "output_type": "execute_result"
    }
   ],
   "source": [
    "df.Age.mean()"
   ]
  },
  {
   "cell_type": "code",
   "execution_count": 122,
   "metadata": {},
   "outputs": [],
   "source": [
    "#Since Age is missing we can fill age with mean value of age\n",
    "df.Age.isnull().any()\n",
    "sum(df.Age.isnull())\n",
    "##Filling then age\n",
    "mean=df.Age.mean()\n",
    "df['Age'].fillna(mean,inplace=True)"
   ]
  },
  {
   "cell_type": "code",
   "execution_count": 143,
   "metadata": {},
   "outputs": [],
   "source": [
    "df.Survived=df.Survived.astype(int)\n",
    "df.Age=df.Age.astype(int)\n",
    "df.SibSp=df.SibSp.astype(int)\n",
    "df.Parch=df.Parch.astype(int)"
   ]
  },
  {
   "cell_type": "code",
   "execution_count": 124,
   "metadata": {},
   "outputs": [
    {
     "name": "stdout",
     "output_type": "stream",
     "text": [
      "<class 'pandas.core.frame.DataFrame'>\n",
      "Int64Index: 1309 entries, 0 to 1308\n",
      "Data columns (total 12 columns):\n",
      "PassengerId    1309 non-null int64\n",
      "Survived       1309 non-null int64\n",
      "Pclass         1309 non-null int64\n",
      "Name           1309 non-null object\n",
      "Sex            1309 non-null object\n",
      "Age            1309 non-null int32\n",
      "SibSp          1309 non-null int32\n",
      "Parch          1309 non-null int32\n",
      "Ticket         1309 non-null object\n",
      "Fare           1308 non-null float64\n",
      "Cabin          295 non-null object\n",
      "Embarked       1307 non-null object\n",
      "dtypes: float64(1), int32(3), int64(3), object(5)\n",
      "memory usage: 117.6+ KB\n"
     ]
    }
   ],
   "source": [
    "df.info()"
   ]
  },
  {
   "cell_type": "code",
   "execution_count": 125,
   "metadata": {},
   "outputs": [
    {
     "data": {
      "text/plain": [
       "(0, 80)"
      ]
     },
     "execution_count": 125,
     "metadata": {},
     "output_type": "execute_result"
    }
   ],
   "source": [
    "#checking min and min age \n",
    "df.Age.min(),df.Age.max()"
   ]
  },
  {
   "cell_type": "code",
   "execution_count": 408,
   "metadata": {},
   "outputs": [
    {
     "data": {
      "text/plain": [
       "1309"
      ]
     },
     "execution_count": 408,
     "metadata": {},
     "output_type": "execute_result"
    }
   ],
   "source": [
    "sum(df.Ticket.value_counts())"
   ]
  },
  {
   "cell_type": "markdown",
   "metadata": {},
   "source": [
    "## Analysis"
   ]
  },
  {
   "cell_type": "markdown",
   "metadata": {},
   "source": [
    "Count of Survival and death?"
   ]
  },
  {
   "cell_type": "code",
   "execution_count": 413,
   "metadata": {},
   "outputs": [
    {
     "data": {
      "text/plain": [
       "(494, 815)"
      ]
     },
     "execution_count": 413,
     "metadata": {},
     "output_type": "execute_result"
    }
   ],
   "source": [
    "sum(df['Survived'] == 1),sum(df['Survived'] == 0)"
   ]
  },
  {
   "cell_type": "code",
   "execution_count": 411,
   "metadata": {},
   "outputs": [
    {
     "data": {
      "image/png": "[encoded data removed]",
      "text/plain": [
       "<Figure size 525x315 with 1 Axes>"
      ]
     },
     "metadata": {},
     "output_type": "display_data"
    }
   ],
   "source": [
    "plt.figure(figsize=(5,3),dpi=105)\n",
    "base_color=sb.color_palette()[0]\n",
    "ax=sb.countplot(data=df,x='Survived',color=base_color);\n",
    "plt.xlabel('Survival');\n",
    "ax.set(xticklabels=['Not Survived','Survived']);"
   ]
  },
  {
   "cell_type": "code",
   "execution_count": 128,
   "metadata": {},
   "outputs": [
    {
     "data": {
      "text/plain": [
       "0    62.261268\n",
       "1    37.738732\n",
       "Name: Survived, dtype: float64"
      ]
     },
     "execution_count": 128,
     "metadata": {},
     "output_type": "execute_result"
    }
   ],
   "source": [
    "#Percentage of Survived an dead\n",
    "df['Survived'].value_counts() * 100 / len(df) "
   ]
  },
  {
   "cell_type": "markdown",
   "metadata": {},
   "source": [
    "- It is clearly seen in Barchart that Survived ratio of Passenger is less then that of Dead ones.\n",
    "- 62.26% of the Passenger were dead and 37.73% Passenger Survived.\n",
    "- Talking about no's out of 1309, 494 Passengers Survived and 815 were dead."
   ]
  },
  {
   "cell_type": "markdown",
   "metadata": {},
   "source": [
    "Counts based on Sex?"
   ]
  },
  {
   "cell_type": "code",
   "execution_count": 129,
   "metadata": {},
   "outputs": [
    {
     "data": {
      "image/png": "[encoded data removed]",
      "text/plain": [
       "<Figure size 525x315 with 1 Axes>"
      ]
     },
     "metadata": {},
     "output_type": "display_data"
    }
   ],
   "source": [
    "#Counts of Passengers according to Sex i.e males and Females.\n",
    "plt.figure(figsize=(5,3),dpi=105)\n",
    "base_color=sb.color_palette()[2]\n",
    "sb.countplot(data=df,x='Sex',color=base_color);"
   ]
  },
  {
   "cell_type": "markdown",
   "metadata": {},
   "source": [
    "Barchart Shows that there more Males then females."
   ]
  },
  {
   "cell_type": "markdown",
   "metadata": {},
   "source": [
    "Counts based on Class?(Who was more upper class peoples or Middle clas or Lower)"
   ]
  },
  {
   "cell_type": "code",
   "execution_count": 22,
   "metadata": {},
   "outputs": [
    {
     "data": {
      "image/png": "[encoded data removed]",
      "text/plain": [
       "<Figure size 525x315 with 1 Axes>"
      ]
     },
     "metadata": {},
     "output_type": "display_data"
    }
   ],
   "source": [
    "plt.figure(figsize=(5,3),dpi=105)\n",
    "base_color=sb.color_palette()[1]\n",
    "color_order=df['Pclass'].value_counts().index\n",
    "ax=sb.countplot(data=df,y='Pclass',color=base_color,order=color_order)\n",
    "ax.set(yticklabels=['Upper','Middle','Lower']);"
   ]
  },
  {
   "cell_type": "markdown",
   "metadata": {},
   "source": [
    "Most Passenger's were of UpperClass and very less passengers were in Lower Class"
   ]
  },
  {
   "cell_type": "markdown",
   "metadata": {},
   "source": [
    "Which age group survived the most and which group did not survived the most?"
   ]
  },
  {
   "cell_type": "code",
   "execution_count": 435,
   "metadata": {
    "scrolled": true
   },
   "outputs": [
    {
     "data": {
      "image/png": "[encoded data removed]",
      "text/plain": [
       "<Figure size 525x315 with 1 Axes>"
      ]
     },
     "metadata": {},
     "output_type": "display_data"
    }
   ],
   "source": [
    "plt.figure(figsize=(5,3),dpi=105)\n",
    "ax=sb.violinplot(data=df,x='Survived',y='Age',color=base_color,inner='stick');\n",
    "ax.set(xticklabels=['Not Survived','Survived']);"
   ]
  },
  {
   "cell_type": "markdown",
   "metadata": {},
   "source": [
    "Violin plot shows that the age groups betwen 20 to 40 did not survived and the age group between 18 to 40 survived the most i.e teenager and Youngster survived the most.\n"
   ]
  },
  {
   "cell_type": "code",
   "execution_count": 421,
   "metadata": {},
   "outputs": [
    {
     "data": {
      "image/png": "[encoded data removed]",
      "text/plain": [
       "<Figure size 525x315 with 1 Axes>"
      ]
     },
     "metadata": {},
     "output_type": "display_data"
    }
   ],
   "source": [
    "#Age Distribution based on Class\n",
    "plt.figure(figsize=(5,3),dpi=105)\n",
    "base_color=sb.color_palette()[0]\n",
    "ax=sb.violinplot(data=df,x='Pclass',y='Age',inner='stick',color=base_color)"
   ]
  },
  {
   "cell_type": "markdown",
   "metadata": {},
   "source": [
    "From violin plot we can say that -\n",
    "- In first class most of the age group was between 10 to 65 i.e mixed age group. which includes teenagers and younsters and old ones peoples.\n",
    "- In second class there was mostly from 15 to 40 approx i.e teen agers and youngsters\n",
    "- In 3rd class there was mostly passengers of age group 20 to 40 i.e youngsters\n"
   ]
  },
  {
   "cell_type": "markdown",
   "metadata": {},
   "source": [
    "Q)Which class Passenger survived the most?"
   ]
  },
  {
   "cell_type": "markdown",
   "metadata": {},
   "source": [
    "#### For First Class(Higher Class):"
   ]
  },
  {
   "cell_type": "code",
   "execution_count": 443,
   "metadata": {},
   "outputs": [
    {
     "data": {
      "text/plain": [
       "1    57.585139\n",
       "0    42.414861\n",
       "Name: Survived, dtype: float64"
      ]
     },
     "execution_count": 443,
     "metadata": {},
     "output_type": "execute_result"
    }
   ],
   "source": [
    "#Percentage of Upper Class Survived\n",
    "df[df['Pclass']==1]['Survived'].value_counts() *100/ len(df[df['Pclass']==1])"
   ]
  },
  {
   "cell_type": "code",
   "execution_count": 429,
   "metadata": {},
   "outputs": [
    {
     "data": {
      "text/plain": [
       "1    186\n",
       "0    137\n",
       "Name: Survived, dtype: int64"
      ]
     },
     "execution_count": 429,
     "metadata": {},
     "output_type": "execute_result"
    }
   ],
   "source": [
    "len(df[df['Pclass']==1]);df[df['Pclass']==1]['Survived'].value_counts()"
   ]
  },
  {
   "cell_type": "code",
   "execution_count": 436,
   "metadata": {},
   "outputs": [
    {
     "data": {
      "image/png": "[encoded data removed]",
      "text/plain": [
       "<Figure size 525x315 with 1 Axes>"
      ]
     },
     "metadata": {},
     "output_type": "display_data"
    }
   ],
   "source": [
    "plt.figure(figsize=(5,3),dpi=105)\n",
    "base_color=sb.color_palette()[0]\n",
    "ax=df[df['Pclass']==1]['Survived'].value_counts().plot(kind='bar',color=base_color)\n",
    "plt.ylabel('Out of 323 in 1st class');\n",
    "ax.set(xticklabels=['Survived','Not Survived']);\n",
    "plt.xticks(rotation=360);"
   ]
  },
  {
   "cell_type": "markdown",
   "metadata": {},
   "source": [
    "- It is visible from the bar chart that in First class Most of the passenger survived.\n",
    "- 57.58% of the First Class Passenger Survived and 42.41% of the First Class did not Survived.\n",
    "- Moving on to numbers out of 323, 186 Survived and 137 did not survived."
   ]
  },
  {
   "cell_type": "markdown",
   "metadata": {},
   "source": [
    "#### For second class(Medium Class):"
   ]
  },
  {
   "cell_type": "code",
   "execution_count": 311,
   "metadata": {},
   "outputs": [
    {
     "data": {
      "text/plain": [
       "0    57.761733\n",
       "1    42.238267\n",
       "Name: Survived, dtype: float64"
      ]
     },
     "execution_count": 311,
     "metadata": {},
     "output_type": "execute_result"
    }
   ],
   "source": [
    "#Percentage of Medium Class Survived\n",
    "df[df['Pclass']==2]['Survived'].value_counts() * 100 / len(df[df['Pclass']==2])"
   ]
  },
  {
   "cell_type": "code",
   "execution_count": 432,
   "metadata": {},
   "outputs": [
    {
     "data": {
      "text/plain": [
       "(0    160\n",
       " 1    117\n",
       " Name: Survived, dtype: int64, 277)"
      ]
     },
     "execution_count": 432,
     "metadata": {},
     "output_type": "execute_result"
    }
   ],
   "source": [
    "df[df['Pclass']==2]['Survived'].value_counts(),len(df[df['Pclass']==2])"
   ]
  },
  {
   "cell_type": "code",
   "execution_count": 437,
   "metadata": {},
   "outputs": [
    {
     "data": {
      "image/png": "[encoded data removed]",
      "text/plain": [
       "<Figure size 525x315 with 1 Axes>"
      ]
     },
     "metadata": {},
     "output_type": "display_data"
    }
   ],
   "source": [
    "plt.figure(figsize=(5,3),dpi=105)\n",
    "base_color=sb.color_palette()[0]\n",
    "ax=df[df['Pclass']== 2 ]['Survived'].value_counts().plot(kind='bar',color=base_color)\n",
    "plt.ylabel('Out of 277 in 2nd class');\n",
    "ax.set(xticklabels=['Not Survived','Survived']);\n",
    "plt.xticks(rotation=360);"
   ]
  },
  {
   "cell_type": "markdown",
   "metadata": {},
   "source": [
    "- The bar chart aboved shows that the in Second class less people Survived and most of the passengers were dead.\n",
    "- 42.23% of Second class Passengers survived whereas 57.76% were dead.\n",
    "- About no's out of Total 277 Passengers 160 Passengers were dead and 160 people survived."
   ]
  },
  {
   "cell_type": "markdown",
   "metadata": {},
   "source": [
    "#### For third class (Lower Class)"
   ]
  },
  {
   "cell_type": "code",
   "execution_count": 310,
   "metadata": {},
   "outputs": [
    {
     "data": {
      "text/plain": [
       "0    73.060649\n",
       "1    26.939351\n",
       "Name: Survived, dtype: float64"
      ]
     },
     "execution_count": 310,
     "metadata": {},
     "output_type": "execute_result"
    }
   ],
   "source": [
    "df[df['Pclass']==3]['Survived'].value_counts() * 100  / len(df[df['Pclass']==3])"
   ]
  },
  {
   "cell_type": "code",
   "execution_count": 441,
   "metadata": {},
   "outputs": [
    {
     "data": {
      "text/plain": [
       "(0    518\n",
       " 1    191\n",
       " Name: Survived, dtype: int64, 709)"
      ]
     },
     "execution_count": 441,
     "metadata": {},
     "output_type": "execute_result"
    }
   ],
   "source": [
    "df[df['Pclass']==3]['Survived'].value_counts() ,  len(df[df['Pclass']==3]) "
   ]
  },
  {
   "cell_type": "code",
   "execution_count": 442,
   "metadata": {},
   "outputs": [
    {
     "data": {
      "image/png": "[encoded data removed]",
      "text/plain": [
       "<Figure size 525x315 with 1 Axes>"
      ]
     },
     "metadata": {},
     "output_type": "display_data"
    }
   ],
   "source": [
    "plt.figure(figsize=(5,3),dpi=105)\n",
    "base_color=sb.color_palette()[0]\n",
    "ax=df[df['Pclass']== 3 ]['Survived'].value_counts().plot(kind='bar',color=base_color)\n",
    "ax.set(xticklabels=['Not Survived','Survived']);\n",
    "plt.xticks(rotation=360);\n",
    "plt.ylabel('Out of 709 Survival');"
   ]
  },
  {
   "cell_type": "markdown",
   "metadata": {},
   "source": [
    "- From above bar chart it is clear that in Third Class very less passengers survived and mored passengers were dead.\n",
    "- 73.07% of the Passengers in Third Class did not Survived and 26% Passengers Survived.\n",
    "- Out of 709 Passengers 518 Passengers were dead and 191 Passengers were survived."
   ]
  },
  {
   "cell_type": "markdown",
   "metadata": {},
   "source": [
    "Comparing Percentage of Survived:\n",
    "- First Class: 57.58% \n",
    "- Second Class:42.23% \n",
    "- Third Class:26.93% \n",
    "### Most of the Passengers from Upper class Survived and very less Passengers of third class Survived\n",
    "\n",
    "Comparing Percentage of Dead:\n",
    "- First Class: 42.23%\n",
    "- Second Class:57.76%\n",
    "- Third Class:73.06%\n",
    "### Most of the Passengers from Lower class were dead and very less Passengers of Upper class was dead."
   ]
  },
  {
   "cell_type": "markdown",
   "metadata": {},
   "source": [
    "### Which family releation was more on ship?"
   ]
  },
  {
   "cell_type": "code",
   "execution_count": 444,
   "metadata": {},
   "outputs": [
    {
     "data": {
      "image/png": "[encoded data removed]",
      "text/plain": [
       "<Figure size 525x315 with 1 Axes>"
      ]
     },
     "metadata": {},
     "output_type": "display_data"
    }
   ],
   "source": [
    "plt.figure(figsize=(5,3),dpi=105)\n",
    "base_color=sb.color_palette()[1]\n",
    "sb.countplot(data=df,x='SibSp',color=base_color);"
   ]
  },
  {
   "cell_type": "markdown",
   "metadata": {},
   "source": [
    "From barchart it is clear that Brother and Sisters were more and Husband Wife was less."
   ]
  },
  {
   "cell_type": "markdown",
   "metadata": {},
   "source": [
    "### Now diving more deeper in Survival :\n",
    "\n"
   ]
  },
  {
   "cell_type": "markdown",
   "metadata": {},
   "source": [
    "#### Survival of Mens"
   ]
  },
  {
   "cell_type": "code",
   "execution_count": 323,
   "metadata": {},
   "outputs": [
    {
     "data": {
      "text/plain": [
       "0    87.069988\n",
       "1    12.930012\n",
       "Name: Survived, dtype: float64"
      ]
     },
     "execution_count": 323,
     "metadata": {},
     "output_type": "execute_result"
    }
   ],
   "source": [
    "#Percentage of Men Survived\n",
    "df[df['Sex']=='male']['Survived'].value_counts() * 100  / len(df[df['Sex']=='male'])"
   ]
  },
  {
   "cell_type": "code",
   "execution_count": 447,
   "metadata": {},
   "outputs": [
    {
     "data": {
      "text/plain": [
       "(0    734\n",
       " 1    109\n",
       " Name: Survived, dtype: int64, 843)"
      ]
     },
     "execution_count": 447,
     "metadata": {},
     "output_type": "execute_result"
    }
   ],
   "source": [
    "df[df['Sex']=='male']['Survived'].value_counts(),len(df[df['Sex']=='male'])"
   ]
  },
  {
   "cell_type": "code",
   "execution_count": 472,
   "metadata": {},
   "outputs": [
    {
     "data": {
      "image/png": "[encoded data removed]",
      "text/plain": [
       "<Figure size 525x315 with 1 Axes>"
      ]
     },
     "metadata": {},
     "output_type": "display_data"
    }
   ],
   "source": [
    "plt.figure(figsize=(5,3),dpi=105)\n",
    "base_color=sb.color_palette()[2]\n",
    "ax=df[df['Sex']=='male']['Survived'].value_counts().plot(kind='bar',color=base_color)\n",
    "ax.set(xticklabels=['Dead','Survived']);\n",
    "plt.xticks(rotation=360);\n",
    "plt.ylabel('Out of 843 Mens');"
   ]
  },
  {
   "cell_type": "markdown",
   "metadata": {},
   "source": [
    "- From above Bar chart it is clear that very less men Survived.\n",
    "- Talking more specifically : Only 12.93 Percentage of Male Survived and 87.06 Percentage of Male did not Survived.\n",
    "- In no's only 109 Mens Survived out of 843 mens. Rest 734 Mens were dead."
   ]
  },
  {
   "cell_type": "markdown",
   "metadata": {},
   "source": [
    "#### Survival of Women's"
   ]
  },
  {
   "cell_type": "code",
   "execution_count": 448,
   "metadata": {},
   "outputs": [
    {
     "data": {
      "text/plain": [
       "1    82.618026\n",
       "0    17.381974\n",
       "Name: Survived, dtype: float64"
      ]
     },
     "execution_count": 448,
     "metadata": {},
     "output_type": "execute_result"
    }
   ],
   "source": [
    "#percentage of Survival of Women's\n",
    "df[df['Sex']=='female']['Survived'].value_counts() * 100  /len(df[df['Sex']=='female'])"
   ]
  },
  {
   "cell_type": "code",
   "execution_count": 449,
   "metadata": {},
   "outputs": [
    {
     "data": {
      "text/plain": [
       "(1    385\n",
       " 0     81\n",
       " Name: Survived, dtype: int64, 466)"
      ]
     },
     "execution_count": 449,
     "metadata": {},
     "output_type": "execute_result"
    }
   ],
   "source": [
    "df[df['Sex']=='female']['Survived'].value_counts(),len(df[df['Sex']=='female'])"
   ]
  },
  {
   "cell_type": "code",
   "execution_count": 473,
   "metadata": {},
   "outputs": [
    {
     "data": {
      "image/png": "[encoded data removed]",
      "text/plain": [
       "<Figure size 525x315 with 1 Axes>"
      ]
     },
     "metadata": {},
     "output_type": "display_data"
    }
   ],
   "source": [
    "plt.figure(figsize=(5,3),dpi=105)\n",
    "ax=df[df['Sex']=='female']['Survived'].value_counts().plot(kind='bar',color=base_color)\n",
    "ax.set(xticklabels=['Survived','Not Survived']);\n",
    "plt.xticks(rotation=360);\n",
    "plt.ylabel('Out of 466 Females');"
   ]
  },
  {
   "cell_type": "markdown",
   "metadata": {},
   "source": [
    "- From above bar it is clear that there were more no. of females who survived.\n",
    "- Talking about womens ,82.61% of Females Survived and 17.38 % of females did not survived.\n",
    "- More specifically,talking in no's 385 out of 466 females Survived and 81 females did not survived."
   ]
  },
  {
   "cell_type": "markdown",
   "metadata": {},
   "source": [
    "Most intresting fact: Females Survived more then the males."
   ]
  },
  {
   "cell_type": "markdown",
   "metadata": {},
   "source": [
    "## Now diving more deeper in Survival : "
   ]
  },
  {
   "cell_type": "markdown",
   "metadata": {},
   "source": [
    "q)How many males survived in First Class,Second class,Third class?\n"
   ]
  },
  {
   "cell_type": "code",
   "execution_count": 337,
   "metadata": {},
   "outputs": [
    {
     "data": {
      "text/plain": [
       "0    74.860335\n",
       "1    25.139665\n",
       "Name: Survived, dtype: float64"
      ]
     },
     "execution_count": 337,
     "metadata": {},
     "output_type": "execute_result"
    }
   ],
   "source": [
    "#Survived Percentage of Males which were in first class \n",
    "df[(df['Sex'] == 'male') & (df['Pclass'] == 1 )]['Survived'].value_counts() * 100 / len(df[(df['Sex'] == 'male') & (df['Pclass'] == 1 )])"
   ]
  },
  {
   "cell_type": "code",
   "execution_count": 453,
   "metadata": {},
   "outputs": [
    {
     "data": {
      "text/plain": [
       "(0    134\n",
       " 1     45\n",
       " Name: Survived, dtype: int64, 179)"
      ]
     },
     "execution_count": 453,
     "metadata": {},
     "output_type": "execute_result"
    }
   ],
   "source": [
    "df[(df['Sex'] == 'male') & (df['Pclass'] == 1 )]['Survived'].value_counts(), len(df[(df['Sex'] == 'male') & (df['Pclass'] == 1 )])"
   ]
  },
  {
   "cell_type": "code",
   "execution_count": 474,
   "metadata": {},
   "outputs": [
    {
     "data": {
      "image/png": "[encoded data removed]",
      "text/plain": [
       "<Figure size 525x315 with 1 Axes>"
      ]
     },
     "metadata": {},
     "output_type": "display_data"
    }
   ],
   "source": [
    "plt.figure(figsize=(5,3),dpi=105)\n",
    "ax=df[(df['Sex'] == 'male') & (df['Pclass'] == 1 )]['Survived'].value_counts().plot(kind='bar',color=base_color);\n",
    "ax.set(xticklabels=['Dead','Survived']);\n",
    "plt.xticks(rotation=360);\n",
    "plt.ylabel('Out of 179 Males');"
   ]
  },
  {
   "cell_type": "markdown",
   "metadata": {},
   "source": [
    "- From above bar it is clear that most of the Mens do no survived in upper class.\n",
    "- Talking about mens in the Upper Class ,Only 25.13% of Males in the upper class Survived and 74.86 % of males did not survived.\n",
    "- More specifically,talking in no's 45 out of 179 males in upper class Survived and 134 males did not survived."
   ]
  },
  {
   "cell_type": "code",
   "execution_count": 351,
   "metadata": {},
   "outputs": [
    {
     "data": {
      "text/plain": [
       "0    90.05848\n",
       "1     9.94152\n",
       "Name: Survived, dtype: float64"
      ]
     },
     "execution_count": 351,
     "metadata": {},
     "output_type": "execute_result"
    }
   ],
   "source": [
    "#Survived Percentage of Males which were in second class.\n",
    "df[(df['Sex'] == 'male') & (df['Pclass'] == 2 )]['Survived'].value_counts() * 100 / len(df[(df['Sex'] == 'male') & (df['Pclass'] == 2 )])"
   ]
  },
  {
   "cell_type": "code",
   "execution_count": 456,
   "metadata": {},
   "outputs": [
    {
     "data": {
      "text/plain": [
       "(0    154\n",
       " 1     17\n",
       " Name: Survived, dtype: int64, 171)"
      ]
     },
     "execution_count": 456,
     "metadata": {},
     "output_type": "execute_result"
    }
   ],
   "source": [
    "df[(df['Sex'] == 'male') & (df['Pclass'] == 2 )]['Survived'].value_counts(), len(df[(df['Sex'] == 'male') & (df['Pclass'] == 2 )])"
   ]
  },
  {
   "cell_type": "code",
   "execution_count": 475,
   "metadata": {},
   "outputs": [
    {
     "data": {
      "image/png": "[encoded data removed]",
      "text/plain": [
       "<Figure size 525x315 with 1 Axes>"
      ]
     },
     "metadata": {},
     "output_type": "display_data"
    }
   ],
   "source": [
    "plt.figure(figsize=(5,3),dpi=105)\n",
    "ax=df[(df['Sex'] == 'male') & (df['Pclass'] == 2 )]['Survived'].value_counts().plot(kind='bar',color=base_color);\n",
    "ax.set(xticklabels=['Dead','Survived']);\n",
    "plt.xticks(rotation=360);\n",
    "plt.ylabel('Out of 171 Males');"
   ]
  },
  {
   "cell_type": "markdown",
   "metadata": {},
   "source": [
    "- From above bar it is clear that most of the Mens do no survived in second class.\n",
    "- Talking about mens in the Medium Class ,Only 9.94% of Males in the Medium class Survived and 90.05 % of males did not survived.\n",
    "- More specifically,talking in no's, 17 out of 171 males in Medium class Survived and 154 males did not survived."
   ]
  },
  {
   "cell_type": "code",
   "execution_count": 372,
   "metadata": {},
   "outputs": [
    {
     "data": {
      "text/plain": [
       "0    90.466531\n",
       "1     9.533469\n",
       "Name: Survived, dtype: float64"
      ]
     },
     "execution_count": 372,
     "metadata": {},
     "output_type": "execute_result"
    }
   ],
   "source": [
    "#Survived Percentage of Males which were in Third class\n",
    "df[(df['Sex'] == 'male') & (df['Pclass'] == 3 )]['Survived'].value_counts() * 100 / len(df[(df['Sex'] == 'male') & (df['Pclass'] == 3 )])"
   ]
  },
  {
   "cell_type": "code",
   "execution_count": 459,
   "metadata": {},
   "outputs": [
    {
     "data": {
      "text/plain": [
       "(0    446\n",
       " 1     47\n",
       " Name: Survived, dtype: int64, 493)"
      ]
     },
     "execution_count": 459,
     "metadata": {},
     "output_type": "execute_result"
    }
   ],
   "source": [
    "df[(df['Sex'] == 'male') & (df['Pclass'] == 3 )]['Survived'].value_counts(), len(df[(df['Sex'] == 'male') & (df['Pclass'] == 3 )])"
   ]
  },
  {
   "cell_type": "code",
   "execution_count": 476,
   "metadata": {},
   "outputs": [
    {
     "data": {
      "image/png": "[encoded data removed]",
      "text/plain": [
       "<Figure size 525x315 with 1 Axes>"
      ]
     },
     "metadata": {},
     "output_type": "display_data"
    }
   ],
   "source": [
    "plt.figure(figsize=(5,3),dpi=105)\n",
    "ax=df[(df['Sex'] == 'male') & (df['Pclass'] == 3 )]['Survived'].value_counts().plot(kind='bar',color=base_color);\n",
    "ax.set(xticklabels=['Dead','Survived']);\n",
    "plt.xticks(rotation=360);\n",
    "plt.ylabel('Out of 493 Males');"
   ]
  },
  {
   "cell_type": "markdown",
   "metadata": {},
   "source": [
    "- From above bar it is clear that very less Mens survived in lower class.\n",
    "- Talking about mens in the Lower Class ,Only 9.53% of Males in the Medium class Survived and 90.46 % of males did not survived.\n",
    "- More specifically,talking in no's, 47 out of 493 males in Lower class Survived and 446 males did not survived."
   ]
  },
  {
   "cell_type": "markdown",
   "metadata": {},
   "source": [
    "Conclusion:\n",
    "Males in the first class survived the most"
   ]
  },
  {
   "cell_type": "code",
   "execution_count": 388,
   "metadata": {},
   "outputs": [
    {
     "data": {
      "text/plain": [
       "1    97.916667\n",
       "0     2.083333\n",
       "Name: Survived, dtype: float64"
      ]
     },
     "execution_count": 388,
     "metadata": {},
     "output_type": "execute_result"
    }
   ],
   "source": [
    "#Survived Percentage of Females which were in first class \n",
    "df[(df['Sex'] == 'female') & (df['Pclass'] == 1 )]['Survived'].value_counts() * 100 / len(df[(df['Sex'] == 'female') & (df['Pclass'] == 1 )])"
   ]
  },
  {
   "cell_type": "code",
   "execution_count": 463,
   "metadata": {},
   "outputs": [
    {
     "data": {
      "text/plain": [
       "(1    141\n",
       " 0      3\n",
       " Name: Survived, dtype: int64, 144)"
      ]
     },
     "execution_count": 463,
     "metadata": {},
     "output_type": "execute_result"
    }
   ],
   "source": [
    "df[(df['Sex'] == 'female') & (df['Pclass'] == 1 )]['Survived'].value_counts(),  len(df[(df['Sex'] == 'female') & (df['Pclass'] == 1 )])"
   ]
  },
  {
   "cell_type": "code",
   "execution_count": 477,
   "metadata": {},
   "outputs": [
    {
     "data": {
      "image/png": "[encoded data removed]",
      "text/plain": [
       "<Figure size 525x315 with 1 Axes>"
      ]
     },
     "metadata": {},
     "output_type": "display_data"
    }
   ],
   "source": [
    "plt.figure(figsize=(5,3),dpi=105)\n",
    "ax=df[(df['Sex'] == 'female') & (df['Pclass'] == 1 )]['Survived'].value_counts().plot(kind='bar',color=base_color);\n",
    "ax.set(xticklabels=['Survived','Dead']);\n",
    "plt.xticks(rotation=360);\n",
    "plt.ylabel('Out of 144 Females');"
   ]
  },
  {
   "cell_type": "markdown",
   "metadata": {},
   "source": [
    "- From above bar it is clear that very less Females were dead in Upper class.Most of the females survived in upper class\n",
    "- Talking about Females in the Upper Class ,97.91% of Females in the Upper class Survived and 2.08 % of females did not survived.\n",
    "- More specifically,talking in no's, 141 out of 144 females in Upper class Survived and 3 females did not survived."
   ]
  },
  {
   "cell_type": "code",
   "execution_count": 377,
   "metadata": {},
   "outputs": [
    {
     "data": {
      "text/plain": [
       "1    94.339623\n",
       "0     5.660377\n",
       "Name: Survived, dtype: float64"
      ]
     },
     "execution_count": 377,
     "metadata": {},
     "output_type": "execute_result"
    }
   ],
   "source": [
    "#Survived Percentage of Females which were in second class \n",
    "df[(df['Sex'] == 'female') & (df['Pclass'] ==2 )]['Survived'].value_counts() * 100 / len(df[(df['Sex'] == 'female') & (df['Pclass'] == 2 )])"
   ]
  },
  {
   "cell_type": "code",
   "execution_count": 464,
   "metadata": {},
   "outputs": [
    {
     "data": {
      "text/plain": [
       "(1    100\n",
       " 0      6\n",
       " Name: Survived, dtype: int64, 106)"
      ]
     },
     "execution_count": 464,
     "metadata": {},
     "output_type": "execute_result"
    }
   ],
   "source": [
    "df[(df['Sex'] == 'female') & (df['Pclass'] ==2 )]['Survived'].value_counts(),len(df[(df['Sex'] == 'female') & (df['Pclass'] == 2 )])"
   ]
  },
  {
   "cell_type": "code",
   "execution_count": 478,
   "metadata": {},
   "outputs": [
    {
     "data": {
      "image/png": "[encoded data removed]",
      "text/plain": [
       "<Figure size 525x315 with 1 Axes>"
      ]
     },
     "metadata": {},
     "output_type": "display_data"
    }
   ],
   "source": [
    "plt.figure(figsize=(5,3),dpi=105)\n",
    "ax=df[(df['Sex'] == 'female') & (df['Pclass'] == 2 )]['Survived'].value_counts().plot(kind='bar',color=base_color);\n",
    "ax.set(xticklabels=['Survived','Dead']);\n",
    "plt.xticks(rotation=360);\n",
    "plt.ylabel('Out of 106 Females');"
   ]
  },
  {
   "cell_type": "markdown",
   "metadata": {},
   "source": [
    "- From above bar it is clear that very less Females were dead in Medium class.Most of the females survived in Medium class\n",
    "- Talking about Females in the Medium Class ,94.33 % of Females in the Medium class Survived and 5.66 % of females did not survived.\n",
    "- More specifically,talking in no's, 100 out of 106 females in Medium class Survived and 6 females did not survived."
   ]
  },
  {
   "cell_type": "code",
   "execution_count": 394,
   "metadata": {},
   "outputs": [
    {
     "data": {
      "text/plain": [
       "1    66.666667\n",
       "0    33.333333\n",
       "Name: Survived, dtype: float64"
      ]
     },
     "execution_count": 394,
     "metadata": {},
     "output_type": "execute_result"
    }
   ],
   "source": [
    "#Survived Percentage of Females which were in Third class \n",
    "df[(df['Sex'] == 'female') & (df['Pclass'] == 3 )]['Survived'].value_counts() * 100 / len(df[(df['Sex'] == 'female') & (df['Pclass'] == 3 )])"
   ]
  },
  {
   "cell_type": "code",
   "execution_count": 469,
   "metadata": {},
   "outputs": [
    {
     "data": {
      "text/plain": [
       "(1    144\n",
       " 0     72\n",
       " Name: Survived, dtype: int64, 216)"
      ]
     },
     "execution_count": 469,
     "metadata": {},
     "output_type": "execute_result"
    }
   ],
   "source": [
    "df[(df['Sex'] == 'female') & (df['Pclass'] == 3 )]['Survived'].value_counts(),  len(df[(df['Sex'] == 'female') & (df['Pclass'] == 3 )])"
   ]
  },
  {
   "cell_type": "code",
   "execution_count": 479,
   "metadata": {},
   "outputs": [
    {
     "data": {
      "image/png": "[encoded data removed]",
      "text/plain": [
       "<Figure size 525x315 with 1 Axes>"
      ]
     },
     "metadata": {},
     "output_type": "display_data"
    }
   ],
   "source": [
    "plt.figure(figsize=(5,3),dpi=105)\n",
    "ax=df[(df['Sex'] == 'female') & (df['Pclass'] == 3 )]['Survived'].value_counts().plot(kind='bar',color=base_color);\n",
    "ax.set(xticklabels=['Survived','Dead']);\n",
    "plt.xticks(rotation=360);\n",
    "plt.ylabel('Out of 216 Females');"
   ]
  },
  {
   "cell_type": "markdown",
   "metadata": {},
   "source": [
    "- From above bar it is clear that less Females were dead in Lower class.Most of the females survived in Lower class\n",
    "- Talking about Females in the Lower Class ,66.66 % of Females in the Lower class Survived and 33.33 % of females did not survived.\n",
    "- More specifically,talking in no's, 144 out of 216 females in Lower class Survived and 72 females did not survived."
   ]
  },
  {
   "cell_type": "markdown",
   "metadata": {},
   "source": [
    "Conclusion:\n",
    "Analysis shows that Females from the Upper class survived the most and females from Lower Class Survived less."
   ]
  }
 ],
 "metadata": {
  "kernelspec": {
   "display_name": "Python [conda env:Anaconda3]",
   "language": "python",
   "name": "conda-env-Anaconda3-py"
  },
  "language_info": {
   "codemirror_mode": {
    "name": "ipython",
    "version": 3
   },
   "file_extension": ".py",
   "mimetype": "text/x-python",
   "name": "python",
   "nbconvert_exporter": "python",
   "pygments_lexer": "ipython3",
   "version": "3.6.5"
  }
 },
 "nbformat": 4,
 "nbformat_minor": 2
}
